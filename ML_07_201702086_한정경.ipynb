{
 "cells": [
  {
   "cell_type": "code",
   "execution_count": 1,
   "id": "64707c45",
   "metadata": {},
   "outputs": [
    {
     "ename": "ModuleNotFoundError",
     "evalue": "No module named 'numpy'",
     "output_type": "error",
     "traceback": [
      "\u001b[1;31m---------------------------------------------------------------------------\u001b[0m",
      "\u001b[1;31mModuleNotFoundError\u001b[0m                       Traceback (most recent call last)",
      "Cell \u001b[1;32mIn [1], line 1\u001b[0m\n\u001b[1;32m----> 1\u001b[0m \u001b[38;5;28;01mimport\u001b[39;00m \u001b[38;5;21;01mnumpy\u001b[39;00m \u001b[38;5;28;01mas\u001b[39;00m \u001b[38;5;21;01mnp\u001b[39;00m\n\u001b[0;32m      2\u001b[0m \u001b[38;5;28;01mimport\u001b[39;00m \u001b[38;5;21;01mpandas\u001b[39;00m \u001b[38;5;28;01mas\u001b[39;00m \u001b[38;5;21;01mpd\u001b[39;00m\n\u001b[0;32m      3\u001b[0m \u001b[38;5;28;01mimport\u001b[39;00m \u001b[38;5;21;01mmatplotlib\u001b[39;00m\u001b[38;5;21;01m.\u001b[39;00m\u001b[38;5;21;01mpyplot\u001b[39;00m \u001b[38;5;28;01mas\u001b[39;00m \u001b[38;5;21;01mplt\u001b[39;00m\n",
      "\u001b[1;31mModuleNotFoundError\u001b[0m: No module named 'numpy'"
     ]
    }
   ],
   "source": [
    "import numpy as np\n",
    "import pandas as pd\n",
    "import matplotlib.pyplot as plt\n",
    "from sklearn import datasets,svm\n",
    "from sklearn.model_selection import GridSearchCV\n",
    "from sklearn.metrics import confusion_matrix\n",
    "\n",
    "\n",
    "train_df = pd.read_csv('mnist_train_final.csv')\n",
    "test_df = pd.read_csv('mnist_test_final.csv')\n",
    "\n",
    "temp = pd.DataFrame(test_df.iloc[1])[1:]\n",
    "temp2 = temp.index.to_list() #index를 list로 변환하여 사용\n",
    "\n",
    "mnist_test_lable = test_df['label']\n",
    "mnist_test_feature = test_df[temp2]\n",
    "\n",
    "mnist_train_lable = test_df['label']\n",
    "mnist_train_feature = test_df[temp2]\n",
    "\n",
    "#print(test_df)\n",
    "#print(mnist_test_lable)\n",
    "#print(mnist_test_feature)\n",
    "\n",
    "parameters = {\n",
    "    'C' : [0.1, 1, 5, 10],\n",
    "    'gamma' : [0.1, 1, 5, 10]\n",
    "}\n",
    "\n",
    "\n",
    "C = [0.1, 1, 5, 10]               \n",
    "gamma = [0.1, 1, 5, 10] \n",
    "\n",
    "\n",
    "num = 1\n",
    "for C_value in range(0,4):\n",
    "    for gamma_value in range(0, 4):\n",
    "            print(num)\n",
    "            num = num + 1\n",
    "            print('C = ', C[C_value], ' gamma = ', gamma[gamma_value])\n",
    "            clf = svm.SVC(kernel = 'rbf', C = C[C_value], gamma = gamma[gamma_value])    \n",
    "            clf.fit(mnist_train_feature,mnist_train_lable)\n",
    "            print(\"test data에 대한 모델의 성능 : \", clf.score(mnist_test_feature, \n",
    "                                           mnist_test_lable))\n",
    "            print()\n",
    "    print()\n",
    "            \n",
    "clf = svm.SVC(kernel = 'rbf')\n",
    "GSCV = GridSearchCV(clf, param_grid=parameters, scoring='accuracy')\n",
    "\n",
    "GSCV.fit(mnist_train_feature, mnist_train_lable)\n",
    "\n",
    "print('best prameters : ', GSCV.best_params_)\n",
    "print('best score : ', GSCV.best_score_)\n",
    "\n",
    "clf = GSCV.best_estimator_\n",
    "print(\"test data에 대한 모델의 성능 : \", clf.score(mnist_test_feature, \n",
    "                                           mnist_test_lable))\n"
   ]
  },
  {
   "cell_type": "code",
   "execution_count": null,
   "id": "00e35484",
   "metadata": {},
   "outputs": [],
   "source": []
  },
  {
   "cell_type": "code",
   "execution_count": null,
   "id": "02e07fc6",
   "metadata": {},
   "outputs": [],
   "source": []
  }
 ],
 "metadata": {
  "kernelspec": {
   "display_name": "Python 3 (ipykernel)",
   "language": "python",
   "name": "python3"
  },
  "language_info": {
   "codemirror_mode": {
    "name": "ipython",
    "version": 3
   },
   "file_extension": ".py",
   "mimetype": "text/x-python",
   "name": "python",
   "nbconvert_exporter": "python",
   "pygments_lexer": "ipython3",
   "version": "3.9.12"
  },
  "vscode": {
   "interpreter": {
    "hash": "a35d849ef866c913c57ca1e190b8e05cd5aa60eb7cd7b4c70632bff9547aa2b3"
   }
  }
 },
 "nbformat": 4,
 "nbformat_minor": 5
}
