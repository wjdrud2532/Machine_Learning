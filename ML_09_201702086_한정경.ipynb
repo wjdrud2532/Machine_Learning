{
 "cells": [
  {
   "cell_type": "code",
   "execution_count": 50,
   "id": "f87765ed",
   "metadata": {
    "scrolled": true
   },
   "outputs": [
    {
     "name": "stdout",
     "output_type": "stream",
     "text": [
      "<25000x26966 sparse matrix of type '<class 'numpy.int64'>'\n",
      "\twith 2149958 stored elements in Compressed Sparse Row format>\n",
      "<25000x26445 sparse matrix of type '<class 'numpy.int64'>'\n",
      "\twith 2101629 stored elements in Compressed Sparse Row format>\n",
      "(25000, 2)\n",
      "(25000, 2)\n",
      "k = 1  :  0.51116\n"
     ]
    }
   ],
   "source": [
    "import numpy as np\n",
    "import pandas as pd\n",
    "\n",
    "from sklearn.datasets import load_files\n",
    "from sklearn.feature_extraction.text import CountVectorizer\n",
    "from sklearn.feature_extraction.text import ENGLISH_STOP_WORDS\n",
    "from sklearn.feature_extraction.text import TfidfVectorizer\n",
    "from sklearn.decomposition import PCA\n",
    "from sklearn.neighbors import KNeighborsClassifier\n",
    "\n",
    "\n",
    "reviews_train = load_files(\"./aclImdb/train/\")\n",
    "reviews_test = load_files(\"./aclImdb/test/\")\n",
    "\n",
    "text_train, y_train = reviews_train.data, reviews_train.target\n",
    "text_test, y_test = reviews_test.data, reviews_test.target\n",
    "\n",
    "#줄바꿈 태그를 삭제하는 전처리 과정 -> 공백으로 바꿈\n",
    "text_train = [doc.replace(b\"<br />\", b\" \") for doc in text_train]\n",
    "text_test = [doc.replace(b\"<br />\", b\" \") for doc in text_test]\n",
    "\n",
    "#불용어 처리\n",
    "vect = CountVectorizer(stop_words=\"english\", min_df=5).fit(text_train + text_test)\n",
    "\n",
    "#A\n",
    "vect.fit(text_train)\n",
    "train_bag_of_words = vect.transform(text_train)\n",
    "#print(vect.vocabulary_)\n",
    "\n",
    "#B\n",
    "vect.fit(text_test)\n",
    "test_bag_of_words = vect.transform(text_test)\n",
    "#print(vect.vocabulary_)\n",
    "\n",
    "#차원축소 전\n",
    "print(repr(train_bag_of_words))\n",
    "print(repr(test_bag_of_words))\n",
    "\n",
    "#차원축소\n",
    "pca = PCA(n_components = 2)\n",
    "\n",
    "decopsed_train_X = pca.fit_transform(train_bag_of_words.toarray())\n",
    "decopsed_test_X = pca.fit_transform(test_bag_of_words.toarray())\n",
    "\n",
    "\n",
    "#차원이 2개로 축소된 것을 확인\n",
    "print(decopsed_train_X.shape)\n",
    "print(decopsed_test_X.shape)\n",
    "                  \n",
    "\n",
    "clf = KNeighborsClassifier(n_neighbors=1)\n",
    "clf.fit(decopsed_train_X, y_train)\n",
    "print(\"k = 1  : \", clf.score(decopsed_test_X, y_test))\n",
    "#k = 1  :  0.51116\n"
   ]
  },
  {
   "cell_type": "code",
   "execution_count": 48,
   "id": "3194c4f7",
   "metadata": {
    "scrolled": true
   },
   "outputs": [
    {
     "name": "stdout",
     "output_type": "stream",
     "text": [
      "(25000, 36791)\n",
      "(25000, 36791)\n",
      "k = 1  :  0.60132\n"
     ]
    }
   ],
   "source": [
    "vectorizer = TfidfVectorizer(norm='l2', stop_words=\"english\", min_df=5)\n",
    "vectorizer.fit(text_train + text_test)\n",
    "\n",
    "X_train = vectorizer.transform(text_train)\n",
    "X_test = vectorizer.transform(text_test)\n",
    "\n",
    "print(X_train.shape)\n",
    "print(X_test.shape)\n",
    "\n",
    "clf = KNeighborsClassifier(n_neighbors=1)\n",
    "clf.fit(X_train, y_train)\n",
    "print(\"k = 1  : \", clf.score(X_test, y_test))"
   ]
  },
  {
   "cell_type": "code",
   "execution_count": null,
   "id": "01a1c496",
   "metadata": {},
   "outputs": [],
   "source": []
  }
 ],
 "metadata": {
  "kernelspec": {
   "display_name": "Python 3 (ipykernel)",
   "language": "python",
   "name": "python3"
  },
  "language_info": {
   "codemirror_mode": {
    "name": "ipython",
    "version": 3
   },
   "file_extension": ".py",
   "mimetype": "text/x-python",
   "name": "python",
   "nbconvert_exporter": "python",
   "pygments_lexer": "ipython3",
   "version": "3.9.12"
  },
  "vscode": {
   "interpreter": {
    "hash": "a35d849ef866c913c57ca1e190b8e05cd5aa60eb7cd7b4c70632bff9547aa2b3"
   }
  }
 },
 "nbformat": 4,
 "nbformat_minor": 5
}
