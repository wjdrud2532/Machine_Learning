{
  "cells": [
    {
      "cell_type": "markdown",
      "metadata": {
        "id": "kCanRMrrUL1n"
      },
      "source": [
        "#lab 12. dnn & cnn"
      ]
    },
    {
      "cell_type": "code",
      "execution_count": null,
      "metadata": {
        "colab": {
          "base_uri": "https://localhost:8080/"
        },
        "id": "T7lecjisUNrS",
        "outputId": "72658068-996e-4e0b-a592-824f1aee493b"
      },
      "outputs": [
        {
          "output_type": "stream",
          "name": "stdout",
          "text": [
            "Mounted at /content/drive\n"
          ]
        }
      ],
      "source": [
        "from google.colab import drive\n",
        "drive.mount('/content/drive')"
      ]
    },
    {
      "cell_type": "code",
      "execution_count": null,
      "metadata": {
        "colab": {
          "base_uri": "https://localhost:8080/"
        },
        "id": "HARy-6L2UjqW",
        "outputId": "d72dbb6a-2277-4412-dcc3-1e8475473085"
      },
      "outputs": [
        {
          "output_type": "stream",
          "name": "stdout",
          "text": [
            "/content\n"
          ]
        }
      ],
      "source": [
        "!pwd"
      ]
    },
    {
      "cell_type": "code",
      "execution_count": null,
      "metadata": {
        "colab": {
          "base_uri": "https://localhost:8080/"
        },
        "id": "oMvmKP0sUn3V",
        "outputId": "88544f3c-7048-467a-e0fe-c2dab5af1a19"
      },
      "outputs": [
        {
          "output_type": "stream",
          "name": "stdout",
          "text": [
            "Downloading data from https://www.cs.toronto.edu/~kriz/cifar-10-python.tar.gz\n",
            "170498071/170498071 [==============================] - 14s 0us/step\n",
            "(50000, 32, 32, 3)\n",
            "(50000, 1)\n",
            "(10000, 32, 32, 3)\n",
            "(10000, 1)\n"
          ]
        }
      ],
      "source": [
        "import tensorflow as tf\n",
        "from tensorflow import keras # tensorflow.keras모듈\n",
        "\n",
        "#import keras.backend.tensorflow_backend as K\n",
        "\n",
        "from keras.datasets import cifar10\n",
        "from keras.utils import np_utils\n",
        "\n",
        "from keras.models import Sequential\n",
        "from keras.layers import Conv2D, MaxPooling2D, Dense, Flatten, Dropout, Conv3D, MaxPooling3D\n",
        "from keras.callbacks import EarlyStopping, ModelCheckpoint\n",
        "import matplotlib.pyplot as plt\n",
        "import os\n",
        "\n",
        "cifar10 = tf.keras.datasets.cifar10\n",
        "(x_train, y_train), (x_test, y_test) = cifar10.load_data()\n",
        "\n",
        "print(x_train.shape)\n",
        "print(y_train.shape)\n",
        "print(x_test.shape)\n",
        "print(y_test.shape)"
      ]
    },
    {
      "cell_type": "code",
      "execution_count": null,
      "metadata": {
        "id": "fgrXswsSV8oD"
      },
      "outputs": [],
      "source": [
        "\n",
        "\n",
        "#255로 나누어 정규화\n",
        "x_train = x_train.astype('float32') / 255.0 \n",
        "x_test = x_test.astype('float32') / 255.0 "
      ]
    },
    {
      "cell_type": "code",
      "execution_count": null,
      "metadata": {
        "colab": {
          "base_uri": "https://localhost:8080/"
        },
        "id": "oO1bNCtEGwDX",
        "outputId": "11591247-2b8b-4cbc-9227-907cf75def65"
      },
      "outputs": [
        {
          "output_type": "stream",
          "name": "stdout",
          "text": [
            "Epoch 1/20\n",
            "1563/1563 [==============================] - 7s 3ms/step - loss: 1.8648 - accuracy: 0.3238\n",
            "Epoch 2/20\n",
            "1563/1563 [==============================] - 4s 3ms/step - loss: 1.6974 - accuracy: 0.3914\n",
            "Epoch 3/20\n",
            "1563/1563 [==============================] - 4s 3ms/step - loss: 1.6169 - accuracy: 0.4202\n",
            "Epoch 4/20\n",
            "1563/1563 [==============================] - 4s 3ms/step - loss: 1.5708 - accuracy: 0.4358\n",
            "Epoch 5/20\n",
            "1563/1563 [==============================] - 4s 3ms/step - loss: 1.5345 - accuracy: 0.4499\n",
            "Epoch 6/20\n",
            "1563/1563 [==============================] - 4s 3ms/step - loss: 1.5117 - accuracy: 0.4603\n",
            "Epoch 7/20\n",
            "1563/1563 [==============================] - 4s 3ms/step - loss: 1.4903 - accuracy: 0.4663\n",
            "Epoch 8/20\n",
            "1563/1563 [==============================] - 4s 3ms/step - loss: 1.4715 - accuracy: 0.4735\n",
            "Epoch 9/20\n",
            "1563/1563 [==============================] - 4s 3ms/step - loss: 1.4617 - accuracy: 0.4794\n",
            "Epoch 10/20\n",
            "1563/1563 [==============================] - 4s 3ms/step - loss: 1.4478 - accuracy: 0.4840\n",
            "Epoch 11/20\n",
            "1563/1563 [==============================] - 4s 3ms/step - loss: 1.4402 - accuracy: 0.4859\n",
            "Epoch 12/20\n",
            "1563/1563 [==============================] - 4s 3ms/step - loss: 1.4239 - accuracy: 0.4882\n",
            "Epoch 13/20\n",
            "1563/1563 [==============================] - 4s 3ms/step - loss: 1.4150 - accuracy: 0.4955\n",
            "Epoch 14/20\n",
            "1563/1563 [==============================] - 4s 3ms/step - loss: 1.4075 - accuracy: 0.4948\n",
            "Epoch 15/20\n",
            "1563/1563 [==============================] - 4s 3ms/step - loss: 1.3972 - accuracy: 0.4992\n",
            "Epoch 16/20\n",
            "1563/1563 [==============================] - 4s 3ms/step - loss: 1.3881 - accuracy: 0.5042\n",
            "Epoch 17/20\n",
            "1563/1563 [==============================] - 4s 3ms/step - loss: 1.3800 - accuracy: 0.5070\n",
            "Epoch 18/20\n",
            "1563/1563 [==============================] - 4s 3ms/step - loss: 1.3751 - accuracy: 0.5086\n",
            "Epoch 19/20\n",
            "1563/1563 [==============================] - 4s 3ms/step - loss: 1.3690 - accuracy: 0.5091\n",
            "Epoch 20/20\n",
            "1563/1563 [==============================] - 4s 3ms/step - loss: 1.3642 - accuracy: 0.5124\n"
          ]
        },
        {
          "output_type": "execute_result",
          "data": {
            "text/plain": [
              "<keras.callbacks.History at 0x7f739003efd0>"
            ]
          },
          "metadata": {},
          "execution_count": 5
        }
      ],
      "source": [
        "model1 = keras.Sequential()\n",
        "\n",
        "#                                     이미지 크기 32 x 32 + RGB 3차원\n",
        "model1.add(keras.layers.Flatten(input_shape=(32, 32, 3), name='input_Layer')) \n",
        "\n",
        "# 히든 레이어 2개 추가      \n",
        "model1.add(keras.layers.Dense(200, activation='relu', name='hidden_1')) # 노드 200개\n",
        "model1.add(keras.layers.Dense(100, activation='relu', name='hidden_2')) # 노드 100개\n",
        "\n",
        "# 마지막 output은 출력 노드 10개, 활성함수 softmax로 설정\n",
        "# 출력값에 대해 정규화 진행, 결과값을 합을 1로 만듦\n",
        "model1.add(keras.layers.Dense(10, activation='softmax', name='output_Layer'))\n",
        "\n",
        "# 옵티마이저 Adam, loss Crossentropy로 설정\n",
        "\n",
        "model1.compile(loss='sparse_categorical_crossentropy', \n",
        "              optimizer='adam', \n",
        "              metrics=['accuracy'],\n",
        "              #metrics=['loss'],\n",
        "              )\n",
        "\n",
        "model1.fit(x_train, y_train, epochs=20)\n"
      ]
    },
    {
      "cell_type": "code",
      "execution_count": null,
      "metadata": {
        "colab": {
          "base_uri": "https://localhost:8080/"
        },
        "id": "1l7zF9SOd13g",
        "outputId": "03e2fa2e-7589-41a5-809d-304e132fa24c"
      },
      "outputs": [
        {
          "output_type": "stream",
          "name": "stdout",
          "text": [
            "Model: \"sequential\"\n",
            "_________________________________________________________________\n",
            " Layer (type)                Output Shape              Param #   \n",
            "=================================================================\n",
            " input_Layer (Flatten)       (None, 3072)              0         \n",
            "                                                                 \n",
            " hidden_1 (Dense)            (None, 200)               614600    \n",
            "                                                                 \n",
            " hidden_2 (Dense)            (None, 100)               20100     \n",
            "                                                                 \n",
            " output_Layer (Dense)        (None, 10)                1010      \n",
            "                                                                 \n",
            "=================================================================\n",
            "Total params: 635,710\n",
            "Trainable params: 635,710\n",
            "Non-trainable params: 0\n",
            "_________________________________________________________________\n"
          ]
        }
      ],
      "source": [
        "model1.summary()"
      ]
    },
    {
      "cell_type": "code",
      "execution_count": null,
      "metadata": {
        "colab": {
          "base_uri": "https://localhost:8080/"
        },
        "id": "uXsBq09WLpdD",
        "outputId": "6e7cf4b2-06ce-4f7c-be77-de90b120088b"
      },
      "outputs": [
        {
          "output_type": "stream",
          "name": "stdout",
          "text": [
            "313/313 [==============================] - 1s 2ms/step - loss: 1.4591 - accuracy: 0.4803\n"
          ]
        }
      ],
      "source": [
        "model1_eval = model1.evaluate(x_test, y_test, return_dict=True)\n"
      ]
    },
    {
      "cell_type": "code",
      "execution_count": null,
      "metadata": {
        "colab": {
          "base_uri": "https://localhost:8080/"
        },
        "id": "4GpDYO8SU451",
        "outputId": "f9ee5b0a-1d59-4f35-c5da-885c9ccae641"
      },
      "outputs": [
        {
          "output_type": "stream",
          "name": "stdout",
          "text": [
            "(50000, 32, 32, 3)\n",
            "(50000, 1)\n",
            "(10000, 32, 32, 3)\n",
            "(10000, 1)\n"
          ]
        }
      ],
      "source": [
        "import tensorflow as tf\n",
        "from tensorflow import keras # tensorflow.keras모듈\n",
        "\n",
        "#import keras.backend.tensorflow_backend as K\n",
        "\n",
        "from keras.datasets import cifar10\n",
        "from keras.utils import np_utils\n",
        "\n",
        "from keras.models import Sequential\n",
        "from keras.layers import Conv2D, MaxPooling2D, Dense, Flatten, Dropout, Conv3D, MaxPooling3D\n",
        "from keras.callbacks import EarlyStopping, ModelCheckpoint\n",
        "import matplotlib.pyplot as plt\n",
        "import os\n",
        "\n",
        "cifar10 = tf.keras.datasets.cifar10\n",
        "(x_train, y_train), (x_test, y_test) = cifar10.load_data()\n",
        "\n",
        "print(x_train.shape)\n",
        "print(y_train.shape)\n",
        "print(x_test.shape)\n",
        "print(y_test.shape)"
      ]
    },
    {
      "cell_type": "code",
      "execution_count": null,
      "metadata": {
        "colab": {
          "base_uri": "https://localhost:8080/"
        },
        "id": "1YevZkSVBemZ",
        "outputId": "e03a6a28-ba73-4018-abdf-e817dcd8072e"
      },
      "outputs": [
        {
          "output_type": "stream",
          "name": "stdout",
          "text": [
            "Epoch 1/20\n",
            "1563/1563 [==============================] - 7s 4ms/step - loss: 1.7431 - accuracy: 0.4035\n",
            "Epoch 2/20\n",
            "1563/1563 [==============================] - 5s 4ms/step - loss: 1.2578 - accuracy: 0.5504\n",
            "Epoch 3/20\n",
            "1563/1563 [==============================] - 6s 4ms/step - loss: 1.0945 - accuracy: 0.6162\n",
            "Epoch 4/20\n",
            "1563/1563 [==============================] - 6s 4ms/step - loss: 0.9827 - accuracy: 0.6590\n",
            "Epoch 5/20\n",
            "1563/1563 [==============================] - 5s 4ms/step - loss: 0.9040 - accuracy: 0.6860\n",
            "Epoch 6/20\n",
            "1563/1563 [==============================] - 6s 4ms/step - loss: 0.8259 - accuracy: 0.7141\n",
            "Epoch 7/20\n",
            "1563/1563 [==============================] - 6s 4ms/step - loss: 0.7703 - accuracy: 0.7339\n",
            "Epoch 8/20\n",
            "1563/1563 [==============================] - 7s 4ms/step - loss: 0.7157 - accuracy: 0.7503\n",
            "Epoch 9/20\n",
            "1563/1563 [==============================] - 6s 4ms/step - loss: 0.6711 - accuracy: 0.7684\n",
            "Epoch 10/20\n",
            "1563/1563 [==============================] - 6s 4ms/step - loss: 0.6227 - accuracy: 0.7833\n",
            "Epoch 11/20\n",
            "1563/1563 [==============================] - 6s 4ms/step - loss: 0.5870 - accuracy: 0.7955\n",
            "Epoch 12/20\n",
            "1563/1563 [==============================] - 6s 4ms/step - loss: 0.5468 - accuracy: 0.8096\n",
            "Epoch 13/20\n",
            "1563/1563 [==============================] - 6s 4ms/step - loss: 0.5182 - accuracy: 0.8181\n",
            "Epoch 14/20\n",
            "1563/1563 [==============================] - 6s 4ms/step - loss: 0.4926 - accuracy: 0.8295\n",
            "Epoch 15/20\n",
            "1563/1563 [==============================] - 5s 3ms/step - loss: 0.4555 - accuracy: 0.8415\n",
            "Epoch 16/20\n",
            "1563/1563 [==============================] - 6s 4ms/step - loss: 0.4443 - accuracy: 0.8467\n",
            "Epoch 17/20\n",
            "1563/1563 [==============================] - 6s 4ms/step - loss: 0.4141 - accuracy: 0.8550\n",
            "Epoch 18/20\n",
            "1563/1563 [==============================] - 6s 4ms/step - loss: 0.3949 - accuracy: 0.8626\n",
            "Epoch 19/20\n",
            "1563/1563 [==============================] - 6s 4ms/step - loss: 0.3761 - accuracy: 0.8685\n",
            "Epoch 20/20\n",
            "1563/1563 [==============================] - 5s 3ms/step - loss: 0.3598 - accuracy: 0.8756\n"
          ]
        },
        {
          "output_type": "execute_result",
          "data": {
            "text/plain": [
              "<keras.callbacks.History at 0x7f473c4d4f10>"
            ]
          },
          "metadata": {},
          "execution_count": 6
        }
      ],
      "source": [
        "from tensorflow.python.ops.init_ops import ConvolutionOrthogonal2D\n",
        "\n",
        "# Sequential은 모델의 계층을 순차적으로 쌓아 생성하는 방법을 말한다.\n",
        "# Conv2D(컨볼루션 필터의 수, 컨볼루션 커널(행,열) 사이즈, padding(valid(input image > output image), same(입력 = 출력), \n",
        "#        샘플 수를 제외한 입력 형태(행, 열 채널 수)), 입력 이미지 사이즈, 활성화 함수)\n",
        "# MaxPooling은 풀링 사이즈에 맞춰 가장 큰 값을 추출함 (2,2)일 경우 입력 영상 크기에서 반으로 줄어듬.\n",
        "\n",
        "model2 = keras.Sequential()\n",
        "\n",
        "model2.add(Conv2D(30, kernel_size=3, input_shape=x_train.shape[1:], \n",
        "                  activation='relu', padding='same', strides=1))\n",
        "model2.add(MaxPooling2D(pool_size=(2,2), strides=2))\n",
        "model2.add(Conv2D(60, kernel_size=3, activation='relu', padding='same', strides=1))\n",
        "model2.add(MaxPooling2D(pool_size=2, strides=2))\n",
        "\n",
        "model2.add(keras.layers.Flatten())\n",
        "\n",
        "model2.add(keras.layers.Dense(64, activation='relu'))\n",
        "model2.add(keras.layers.Dense(32, activation='relu'))\n",
        "model2.add(keras.layers.Dense(10, activation='softmax', name='output_Layer'))\n",
        "\n",
        "# categorical_crossentropy 는 안됨, 이유는 모르겠음\n",
        "model2.compile(loss='sparse_categorical_crossentropy', \n",
        "              optimizer='adam', \n",
        "              metrics=['accuracy'],\n",
        "              )\n",
        "\n",
        "model2.fit(x_train, y_train, epochs=20 )\n"
      ]
    },
    {
      "cell_type": "code",
      "execution_count": null,
      "metadata": {
        "colab": {
          "base_uri": "https://localhost:8080/"
        },
        "id": "sLN5Mv0Oi17G",
        "outputId": "17a179a8-9461-4aa5-a380-6d11e54520d2"
      },
      "outputs": [
        {
          "output_type": "stream",
          "name": "stdout",
          "text": [
            "Model: \"sequential_1\"\n",
            "_________________________________________________________________\n",
            " Layer (type)                Output Shape              Param #   \n",
            "=================================================================\n",
            " conv2d_2 (Conv2D)           (None, 32, 32, 30)        840       \n",
            "                                                                 \n",
            " max_pooling2d_2 (MaxPooling  (None, 16, 16, 30)       0         \n",
            " 2D)                                                             \n",
            "                                                                 \n",
            " conv2d_3 (Conv2D)           (None, 16, 16, 60)        16260     \n",
            "                                                                 \n",
            " max_pooling2d_3 (MaxPooling  (None, 8, 8, 60)         0         \n",
            " 2D)                                                             \n",
            "                                                                 \n",
            " flatten (Flatten)           (None, 3840)              0         \n",
            "                                                                 \n",
            " dense_2 (Dense)             (None, 64)                245824    \n",
            "                                                                 \n",
            " dense_3 (Dense)             (None, 32)                2080      \n",
            "                                                                 \n",
            " output_Layer (Dense)        (None, 10)                330       \n",
            "                                                                 \n",
            "=================================================================\n",
            "Total params: 265,334\n",
            "Trainable params: 265,334\n",
            "Non-trainable params: 0\n",
            "_________________________________________________________________\n"
          ]
        }
      ],
      "source": [
        "model2.summary()"
      ]
    },
    {
      "cell_type": "code",
      "execution_count": null,
      "metadata": {
        "colab": {
          "base_uri": "https://localhost:8080/"
        },
        "id": "QYCiBHAji14Y",
        "outputId": "b651b52a-e407-4d95-9d81-98cf266825e4"
      },
      "outputs": [
        {
          "output_type": "stream",
          "name": "stdout",
          "text": [
            "313/313 [==============================] - 1s 3ms/step - loss: 1.5177 - accuracy: 0.6503\n"
          ]
        }
      ],
      "source": [
        "model2_eval = model2.evaluate(x_test, y_test, return_dict=True)"
      ]
    },
    {
      "cell_type": "code",
      "execution_count": null,
      "metadata": {
        "id": "g3b56wv6i12G"
      },
      "outputs": [],
      "source": []
    },
    {
      "cell_type": "code",
      "execution_count": null,
      "metadata": {
        "id": "QHGRPATVi1th"
      },
      "outputs": [],
      "source": []
    },
    {
      "cell_type": "code",
      "execution_count": null,
      "metadata": {
        "id": "lWUcYQ72i1nc"
      },
      "outputs": [],
      "source": []
    },
    {
      "cell_type": "code",
      "execution_count": null,
      "metadata": {
        "id": "W6CxA4GlFKCz"
      },
      "outputs": [],
      "source": []
    }
  ],
  "metadata": {
    "colab": {
      "provenance": []
    },
    "kernelspec": {
      "display_name": "Python 3",
      "name": "python3"
    },
    "language_info": {
      "name": "python"
    },
    "accelerator": "GPU",
    "gpuClass": "standard"
  },
  "nbformat": 4,
  "nbformat_minor": 0
}